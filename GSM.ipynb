{
 "cells": [
  {
   "cell_type": "code",
   "execution_count": 1,
   "id": "destroyed-organic",
   "metadata": {},
   "outputs": [],
   "source": [
    "# Generating 2 random 128 bit lists\n",
    "import random\n",
    "rand = []\n",
    "ki = []\n",
    "message_length = 128\n",
    "for i in range(message_length):\n",
    "    rand.append(random.randint(0,1))\n",
    "    ki.append(random.randint(0,1))"
   ]
  },
  {
   "cell_type": "code",
   "execution_count": 2,
   "id": "biblical-translation",
   "metadata": {},
   "outputs": [
    {
     "name": "stdout",
     "output_type": "stream",
     "text": [
      "[1, 1, 0, 1, 1, 1, 1, 0, 1, 0, 0, 1, 1, 0, 1, 1, 0, 0, 0, 1, 1, 1, 1, 1, 0, 1, 1, 1, 0, 1, 0, 1, 1, 1, 0, 0, 1, 0, 0, 1, 1, 1, 0, 0, 0, 0, 0, 1, 1, 1, 0, 1, 0, 1, 1, 1, 0, 0, 1, 1, 1, 1, 1, 0, 1, 0, 1, 0, 0, 0, 1, 0, 1, 0, 0, 0, 1, 0, 1, 0, 1, 0, 0, 1, 1, 1, 1, 1, 1, 0, 0, 0, 0, 0, 1, 1, 1, 0, 1, 0, 0, 1, 0, 0, 0, 0, 1, 1, 1, 0, 1, 1, 1, 0, 0, 0, 1, 0, 1, 0, 0, 1, 1, 0, 0, 0, 0, 0]\n",
      "[0, 1, 1, 1, 1, 1, 1, 1, 1, 0, 1, 1, 0, 0, 0, 0, 0, 0, 0, 1, 1, 1, 1, 1, 1, 0, 1, 1, 0, 0, 0, 1, 1, 0, 0, 0, 0, 0, 1, 1, 0, 1, 1, 0, 0, 1, 0, 1, 0, 1, 1, 0, 0, 1, 0, 1, 1, 0, 0, 0, 1, 0, 1, 1, 1, 1, 1, 0, 0, 1, 1, 1, 0, 1, 0, 1, 0, 0, 1, 0, 0, 1, 0, 1, 0, 0, 0, 1, 1, 1, 1, 1, 0, 1, 0, 1, 1, 0, 1, 1, 1, 1, 1, 1, 1, 0, 0, 0, 0, 0, 0, 1, 1, 0, 0, 0, 0, 0, 1, 0, 0, 0, 0, 0, 0, 1, 1, 1]\n"
     ]
    }
   ],
   "source": [
    "print(rand)\n",
    "print(ki)"
   ]
  },
  {
   "cell_type": "code",
   "execution_count": 6,
   "id": "combined-battlefield",
   "metadata": {},
   "outputs": [],
   "source": [
    "def xor(list1, list2):\n",
    "    result = []\n",
    "    l = len(list1)\n",
    "    for i in range(l):\n",
    "        result.append(list1[i] ^ list2[i])\n",
    "    return result"
   ]
  },
  {
   "cell_type": "code",
   "execution_count": 7,
   "id": "signal-disney",
   "metadata": {},
   "outputs": [],
   "source": [
    "result_64bit1 = xor(rand[:message_length//2], ki[message_length//2:])\n",
    "result_64bit2 = xor(ki[:message_length//2], rand[message_length//2:])\n",
    "\n",
    "result_64bit = xor(result_64bit1, result_64bit2)\n",
    "\n",
    "l = len(result_64bit)\n",
    "result_32bit = xor(result_64bit[:l//2], result_64bit[l//2:])"
   ]
  },
  {
   "cell_type": "code",
   "execution_count": 8,
   "id": "civil-syndrome",
   "metadata": {},
   "outputs": [
    {
     "name": "stdout",
     "output_type": "stream",
     "text": [
      "A3 result: \n",
      "[1, 0, 1, 1, 0, 1, 0, 1, 1, 1, 1, 0, 1, 1, 0, 1, 0, 1, 1, 1, 0, 1, 0, 0, 0, 1, 1, 0, 0, 0, 0, 0]\n"
     ]
    }
   ],
   "source": [
    "print(\"A3 result: \")\n",
    "print(result_32bit)"
   ]
  },
  {
   "cell_type": "code",
   "execution_count": 9,
   "id": "handmade-essex",
   "metadata": {},
   "outputs": [
    {
     "data": {
      "text/plain": [
       "32"
      ]
     },
     "execution_count": 9,
     "metadata": {},
     "output_type": "execute_result"
    }
   ],
   "source": [
    "len(result_32bit)"
   ]
  },
  {
   "cell_type": "code",
   "execution_count": null,
   "id": "partial-bunny",
   "metadata": {},
   "outputs": [],
   "source": []
  }
 ],
 "metadata": {
  "kernelspec": {
   "display_name": "Python 3",
   "language": "python",
   "name": "python3"
  },
  "language_info": {
   "codemirror_mode": {
    "name": "ipython",
    "version": 3
   },
   "file_extension": ".py",
   "mimetype": "text/x-python",
   "name": "python",
   "nbconvert_exporter": "python",
   "pygments_lexer": "ipython3",
   "version": "3.9.1"
  }
 },
 "nbformat": 4,
 "nbformat_minor": 5
}
